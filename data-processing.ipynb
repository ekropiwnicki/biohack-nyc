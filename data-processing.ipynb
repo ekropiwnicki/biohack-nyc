{
 "cells": [
  {
   "cell_type": "code",
   "execution_count": 1,
   "metadata": {},
   "outputs": [],
   "source": [
    "import pandas as pd\n",
    "import numpy as np\n",
    "import os\n",
    "import xgboost as xgb\n",
    "from sklearn.model_selection import RepeatedKFold, cross_val_score, train_test_split\n",
    "from sklearn.metrics import mean_absolute_error"
   ]
  },
  {
   "cell_type": "markdown",
   "metadata": {},
   "source": [
    "### Import Epigenetics and RNA-seq data"
   ]
  },
  {
   "cell_type": "code",
   "execution_count": 2,
   "metadata": {},
   "outputs": [],
   "source": [
    "master_folder_path = 'Multiome'\n",
    "\n",
    "dfs_epigenetics = {}\n",
    "dfs_transcriptomics = {}\n",
    "\n",
    "# Iterate through all subdirectories and files in the master folder\n",
    "for root, dirs, files in os.walk(master_folder_path):\n",
    "    # If we are at the third level of directories get the histone modification assay data\n",
    "    if len(root.split(\"/\")) == 3:\n",
    "        cell_line = root.split(\"/\")[1]\n",
    "        if cell_line not in dfs_epigenetics:\n",
    "            dfs_epigenetics[cell_line] = []\n",
    "        for file in files:\n",
    "            if file.endswith('.csv'):\n",
    "                # Construct the full path to the CSV file\n",
    "                csv_file_path = os.path.join(root, file)\n",
    "                histone_mark = csv_file_path.split(\"_\")[-1].strip(\".csv\")\n",
    "        \n",
    "                # Read the CSV file using pandas\n",
    "                df = pd.read_csv(csv_file_path)\n",
    "                df['annotation'] = df['annotation'].apply(lambda x: x.split(\" (\")[0])\n",
    "                df['annotation'] = df['annotation'] + f\"_{histone_mark}\"\n",
    "                dfs_epigenetics[cell_line].append(df)\n",
    "    # If we are at the second level of directories get RNA seq data\n",
    "    if len(root.split(\"/\")) == 2:\n",
    "        cell_line = root.split(\"/\")[1]\n",
    "        for file in files:\n",
    "            if file.endswith('.tsv'):\n",
    "                tsv_file_path = os.path.join(root, file)\n",
    "                rna_seq = pd.read_csv(tsv_file_path, sep = '\\t')\n",
    "                dfs_transcriptomics[cell_line] = rna_seq"
   ]
  },
  {
   "cell_type": "markdown",
   "metadata": {},
   "source": [
    "### Lets use Mammary Epithelial Cell as an example for now and create the feature matrix"
   ]
  },
  {
   "cell_type": "code",
   "execution_count": 3,
   "metadata": {},
   "outputs": [],
   "source": [
    "# Take this as an example for now\n",
    "df_aggregated = pd.concat(dfs_epigenetics['Mammary Epithelial Cell'])"
   ]
  },
  {
   "cell_type": "code",
   "execution_count": 4,
   "metadata": {},
   "outputs": [
    {
     "data": {
      "text/html": [
       "<div>\n",
       "<style scoped>\n",
       "    .dataframe tbody tr th:only-of-type {\n",
       "        vertical-align: middle;\n",
       "    }\n",
       "\n",
       "    .dataframe tbody tr th {\n",
       "        vertical-align: top;\n",
       "    }\n",
       "\n",
       "    .dataframe thead th {\n",
       "        text-align: right;\n",
       "    }\n",
       "</style>\n",
       "<table border=\"1\" class=\"dataframe\">\n",
       "  <thead>\n",
       "    <tr style=\"text-align: right;\">\n",
       "      <th></th>\n",
       "      <th>Unnamed: 0</th>\n",
       "      <th>seqnames</th>\n",
       "      <th>start</th>\n",
       "      <th>end</th>\n",
       "      <th>width</th>\n",
       "      <th>strand</th>\n",
       "      <th>annotation</th>\n",
       "      <th>geneChr</th>\n",
       "      <th>geneStart</th>\n",
       "      <th>geneEnd</th>\n",
       "      <th>geneLength</th>\n",
       "      <th>geneStrand</th>\n",
       "      <th>geneId</th>\n",
       "      <th>transcriptId</th>\n",
       "      <th>distanceToTSS</th>\n",
       "    </tr>\n",
       "  </thead>\n",
       "  <tbody>\n",
       "    <tr>\n",
       "      <th>0</th>\n",
       "      <td>1</td>\n",
       "      <td>chr1</td>\n",
       "      <td>100035284</td>\n",
       "      <td>100036150</td>\n",
       "      <td>867</td>\n",
       "      <td>*</td>\n",
       "      <td>3' UTR_H3K4me2</td>\n",
       "      <td>1</td>\n",
       "      <td>100038095</td>\n",
       "      <td>100083377</td>\n",
       "      <td>45283</td>\n",
       "      <td>1</td>\n",
       "      <td>64645</td>\n",
       "      <td>ENST00000370152.8</td>\n",
       "      <td>-1945</td>\n",
       "    </tr>\n",
       "    <tr>\n",
       "      <th>1</th>\n",
       "      <td>2</td>\n",
       "      <td>chr1</td>\n",
       "      <td>100036465</td>\n",
       "      <td>100038061</td>\n",
       "      <td>1597</td>\n",
       "      <td>*</td>\n",
       "      <td>Promoter_H3K4me2</td>\n",
       "      <td>1</td>\n",
       "      <td>100038095</td>\n",
       "      <td>100083377</td>\n",
       "      <td>45283</td>\n",
       "      <td>1</td>\n",
       "      <td>64645</td>\n",
       "      <td>ENST00000370152.8</td>\n",
       "      <td>-34</td>\n",
       "    </tr>\n",
       "    <tr>\n",
       "      <th>2</th>\n",
       "      <td>3</td>\n",
       "      <td>chr1</td>\n",
       "      <td>100038100</td>\n",
       "      <td>100040871</td>\n",
       "      <td>2772</td>\n",
       "      <td>*</td>\n",
       "      <td>Promoter_H3K4me2</td>\n",
       "      <td>1</td>\n",
       "      <td>100038095</td>\n",
       "      <td>100083377</td>\n",
       "      <td>45283</td>\n",
       "      <td>1</td>\n",
       "      <td>64645</td>\n",
       "      <td>ENST00000370152.8</td>\n",
       "      <td>5</td>\n",
       "    </tr>\n",
       "    <tr>\n",
       "      <th>3</th>\n",
       "      <td>4</td>\n",
       "      <td>chr1</td>\n",
       "      <td>100042106</td>\n",
       "      <td>100042601</td>\n",
       "      <td>496</td>\n",
       "      <td>*</td>\n",
       "      <td>Intron_H3K4me2</td>\n",
       "      <td>1</td>\n",
       "      <td>100038095</td>\n",
       "      <td>100083377</td>\n",
       "      <td>45283</td>\n",
       "      <td>1</td>\n",
       "      <td>64645</td>\n",
       "      <td>ENST00000370152.8</td>\n",
       "      <td>4011</td>\n",
       "    </tr>\n",
       "    <tr>\n",
       "      <th>4</th>\n",
       "      <td>5</td>\n",
       "      <td>chr1</td>\n",
       "      <td>100042648</td>\n",
       "      <td>100042938</td>\n",
       "      <td>291</td>\n",
       "      <td>*</td>\n",
       "      <td>Intron_H3K4me2</td>\n",
       "      <td>1</td>\n",
       "      <td>100038095</td>\n",
       "      <td>100083377</td>\n",
       "      <td>45283</td>\n",
       "      <td>1</td>\n",
       "      <td>64645</td>\n",
       "      <td>ENST00000370152.8</td>\n",
       "      <td>4553</td>\n",
       "    </tr>\n",
       "  </tbody>\n",
       "</table>\n",
       "</div>"
      ],
      "text/plain": [
       "   Unnamed: 0 seqnames      start        end  width strand        annotation  \\\n",
       "0           1     chr1  100035284  100036150    867      *    3' UTR_H3K4me2   \n",
       "1           2     chr1  100036465  100038061   1597      *  Promoter_H3K4me2   \n",
       "2           3     chr1  100038100  100040871   2772      *  Promoter_H3K4me2   \n",
       "3           4     chr1  100042106  100042601    496      *    Intron_H3K4me2   \n",
       "4           5     chr1  100042648  100042938    291      *    Intron_H3K4me2   \n",
       "\n",
       "   geneChr  geneStart    geneEnd  geneLength  geneStrand  geneId  \\\n",
       "0        1  100038095  100083377       45283           1   64645   \n",
       "1        1  100038095  100083377       45283           1   64645   \n",
       "2        1  100038095  100083377       45283           1   64645   \n",
       "3        1  100038095  100083377       45283           1   64645   \n",
       "4        1  100038095  100083377       45283           1   64645   \n",
       "\n",
       "        transcriptId  distanceToTSS  \n",
       "0  ENST00000370152.8          -1945  \n",
       "1  ENST00000370152.8            -34  \n",
       "2  ENST00000370152.8              5  \n",
       "3  ENST00000370152.8           4011  \n",
       "4  ENST00000370152.8           4553  "
      ]
     },
     "execution_count": 4,
     "metadata": {},
     "output_type": "execute_result"
    }
   ],
   "source": [
    "df_aggregated.head()"
   ]
  },
  {
   "cell_type": "code",
   "execution_count": 5,
   "metadata": {},
   "outputs": [],
   "source": [
    "# Get the number of peaks per gene region\n",
    "peak_count_df = df_aggregated.groupby([\"geneId\",\"annotation\"],as_index=False).agg(\n",
    "    peak_counts = ('annotation','size')\n",
    ")"
   ]
  },
  {
   "cell_type": "code",
   "execution_count": 6,
   "metadata": {},
   "outputs": [],
   "source": [
    "feature_matrix = peak_count_df.pivot_table(columns='annotation',index=['geneId'])['peak_counts']"
   ]
  },
  {
   "cell_type": "code",
   "execution_count": 7,
   "metadata": {},
   "outputs": [
    {
     "data": {
      "text/plain": [
       "(28763, 77)"
      ]
     },
     "execution_count": 7,
     "metadata": {},
     "output_type": "execute_result"
    }
   ],
   "source": [
    "feature_matrix.shape"
   ]
  },
  {
   "cell_type": "code",
   "execution_count": 8,
   "metadata": {},
   "outputs": [
    {
     "data": {
      "text/html": [
       "<div>\n",
       "<style scoped>\n",
       "    .dataframe tbody tr th:only-of-type {\n",
       "        vertical-align: middle;\n",
       "    }\n",
       "\n",
       "    .dataframe tbody tr th {\n",
       "        vertical-align: top;\n",
       "    }\n",
       "\n",
       "    .dataframe thead th {\n",
       "        text-align: right;\n",
       "    }\n",
       "</style>\n",
       "<table border=\"1\" class=\"dataframe\">\n",
       "  <thead>\n",
       "    <tr style=\"text-align: right;\">\n",
       "      <th>annotation</th>\n",
       "      <th>3' UTR_H2AFZ</th>\n",
       "      <th>3' UTR_H3K27a</th>\n",
       "      <th>3' UTR_H3K27me3</th>\n",
       "      <th>3' UTR_H3K36me3</th>\n",
       "      <th>3' UTR_H3K4me1</th>\n",
       "      <th>3' UTR_H3K4me2</th>\n",
       "      <th>3' UTR_H3K4me3</th>\n",
       "      <th>3' UTR_H3K79me2</th>\n",
       "      <th>3' UTR_H3K9a</th>\n",
       "      <th>3' UTR_H3K9me3</th>\n",
       "      <th>...</th>\n",
       "      <th>Promoter_H3K27a</th>\n",
       "      <th>Promoter_H3K27me3</th>\n",
       "      <th>Promoter_H3K36me3</th>\n",
       "      <th>Promoter_H3K4me1</th>\n",
       "      <th>Promoter_H3K4me2</th>\n",
       "      <th>Promoter_H3K4me3</th>\n",
       "      <th>Promoter_H3K79me2</th>\n",
       "      <th>Promoter_H3K9a</th>\n",
       "      <th>Promoter_H3K9me3</th>\n",
       "      <th>Promoter_H4K20me1</th>\n",
       "    </tr>\n",
       "    <tr>\n",
       "      <th>geneId</th>\n",
       "      <th></th>\n",
       "      <th></th>\n",
       "      <th></th>\n",
       "      <th></th>\n",
       "      <th></th>\n",
       "      <th></th>\n",
       "      <th></th>\n",
       "      <th></th>\n",
       "      <th></th>\n",
       "      <th></th>\n",
       "      <th></th>\n",
       "      <th></th>\n",
       "      <th></th>\n",
       "      <th></th>\n",
       "      <th></th>\n",
       "      <th></th>\n",
       "      <th></th>\n",
       "      <th></th>\n",
       "      <th></th>\n",
       "      <th></th>\n",
       "      <th></th>\n",
       "    </tr>\n",
       "  </thead>\n",
       "  <tbody>\n",
       "    <tr>\n",
       "      <th>1</th>\n",
       "      <td>NaN</td>\n",
       "      <td>NaN</td>\n",
       "      <td>NaN</td>\n",
       "      <td>1.0</td>\n",
       "      <td>NaN</td>\n",
       "      <td>NaN</td>\n",
       "      <td>NaN</td>\n",
       "      <td>NaN</td>\n",
       "      <td>NaN</td>\n",
       "      <td>NaN</td>\n",
       "      <td>...</td>\n",
       "      <td>1.0</td>\n",
       "      <td>NaN</td>\n",
       "      <td>NaN</td>\n",
       "      <td>1.0</td>\n",
       "      <td>2.0</td>\n",
       "      <td>2.0</td>\n",
       "      <td>NaN</td>\n",
       "      <td>1.0</td>\n",
       "      <td>2.0</td>\n",
       "      <td>NaN</td>\n",
       "    </tr>\n",
       "    <tr>\n",
       "      <th>2</th>\n",
       "      <td>NaN</td>\n",
       "      <td>NaN</td>\n",
       "      <td>NaN</td>\n",
       "      <td>NaN</td>\n",
       "      <td>NaN</td>\n",
       "      <td>NaN</td>\n",
       "      <td>NaN</td>\n",
       "      <td>NaN</td>\n",
       "      <td>NaN</td>\n",
       "      <td>NaN</td>\n",
       "      <td>...</td>\n",
       "      <td>NaN</td>\n",
       "      <td>NaN</td>\n",
       "      <td>NaN</td>\n",
       "      <td>1.0</td>\n",
       "      <td>2.0</td>\n",
       "      <td>NaN</td>\n",
       "      <td>NaN</td>\n",
       "      <td>NaN</td>\n",
       "      <td>NaN</td>\n",
       "      <td>NaN</td>\n",
       "    </tr>\n",
       "    <tr>\n",
       "      <th>3</th>\n",
       "      <td>NaN</td>\n",
       "      <td>NaN</td>\n",
       "      <td>NaN</td>\n",
       "      <td>NaN</td>\n",
       "      <td>NaN</td>\n",
       "      <td>NaN</td>\n",
       "      <td>NaN</td>\n",
       "      <td>NaN</td>\n",
       "      <td>NaN</td>\n",
       "      <td>NaN</td>\n",
       "      <td>...</td>\n",
       "      <td>NaN</td>\n",
       "      <td>NaN</td>\n",
       "      <td>NaN</td>\n",
       "      <td>NaN</td>\n",
       "      <td>NaN</td>\n",
       "      <td>NaN</td>\n",
       "      <td>NaN</td>\n",
       "      <td>NaN</td>\n",
       "      <td>NaN</td>\n",
       "      <td>NaN</td>\n",
       "    </tr>\n",
       "    <tr>\n",
       "      <th>9</th>\n",
       "      <td>NaN</td>\n",
       "      <td>NaN</td>\n",
       "      <td>NaN</td>\n",
       "      <td>NaN</td>\n",
       "      <td>NaN</td>\n",
       "      <td>NaN</td>\n",
       "      <td>NaN</td>\n",
       "      <td>NaN</td>\n",
       "      <td>NaN</td>\n",
       "      <td>NaN</td>\n",
       "      <td>...</td>\n",
       "      <td>1.0</td>\n",
       "      <td>NaN</td>\n",
       "      <td>1.0</td>\n",
       "      <td>NaN</td>\n",
       "      <td>1.0</td>\n",
       "      <td>1.0</td>\n",
       "      <td>NaN</td>\n",
       "      <td>NaN</td>\n",
       "      <td>NaN</td>\n",
       "      <td>NaN</td>\n",
       "    </tr>\n",
       "    <tr>\n",
       "      <th>10</th>\n",
       "      <td>NaN</td>\n",
       "      <td>NaN</td>\n",
       "      <td>NaN</td>\n",
       "      <td>NaN</td>\n",
       "      <td>NaN</td>\n",
       "      <td>NaN</td>\n",
       "      <td>NaN</td>\n",
       "      <td>NaN</td>\n",
       "      <td>NaN</td>\n",
       "      <td>NaN</td>\n",
       "      <td>...</td>\n",
       "      <td>NaN</td>\n",
       "      <td>NaN</td>\n",
       "      <td>NaN</td>\n",
       "      <td>1.0</td>\n",
       "      <td>1.0</td>\n",
       "      <td>NaN</td>\n",
       "      <td>NaN</td>\n",
       "      <td>NaN</td>\n",
       "      <td>NaN</td>\n",
       "      <td>NaN</td>\n",
       "    </tr>\n",
       "  </tbody>\n",
       "</table>\n",
       "<p>5 rows × 77 columns</p>\n",
       "</div>"
      ],
      "text/plain": [
       "annotation  3' UTR_H2AFZ  3' UTR_H3K27a  3' UTR_H3K27me3  3' UTR_H3K36me3  \\\n",
       "geneId                                                                      \n",
       "1                    NaN            NaN              NaN              1.0   \n",
       "2                    NaN            NaN              NaN              NaN   \n",
       "3                    NaN            NaN              NaN              NaN   \n",
       "9                    NaN            NaN              NaN              NaN   \n",
       "10                   NaN            NaN              NaN              NaN   \n",
       "\n",
       "annotation  3' UTR_H3K4me1  3' UTR_H3K4me2  3' UTR_H3K4me3  3' UTR_H3K79me2  \\\n",
       "geneId                                                                        \n",
       "1                      NaN             NaN             NaN              NaN   \n",
       "2                      NaN             NaN             NaN              NaN   \n",
       "3                      NaN             NaN             NaN              NaN   \n",
       "9                      NaN             NaN             NaN              NaN   \n",
       "10                     NaN             NaN             NaN              NaN   \n",
       "\n",
       "annotation  3' UTR_H3K9a  3' UTR_H3K9me3  ...  Promoter_H3K27a  \\\n",
       "geneId                                    ...                    \n",
       "1                    NaN             NaN  ...              1.0   \n",
       "2                    NaN             NaN  ...              NaN   \n",
       "3                    NaN             NaN  ...              NaN   \n",
       "9                    NaN             NaN  ...              1.0   \n",
       "10                   NaN             NaN  ...              NaN   \n",
       "\n",
       "annotation  Promoter_H3K27me3  Promoter_H3K36me3  Promoter_H3K4me1  \\\n",
       "geneId                                                               \n",
       "1                         NaN                NaN               1.0   \n",
       "2                         NaN                NaN               1.0   \n",
       "3                         NaN                NaN               NaN   \n",
       "9                         NaN                1.0               NaN   \n",
       "10                        NaN                NaN               1.0   \n",
       "\n",
       "annotation  Promoter_H3K4me2  Promoter_H3K4me3  Promoter_H3K79me2  \\\n",
       "geneId                                                              \n",
       "1                        2.0               2.0                NaN   \n",
       "2                        2.0               NaN                NaN   \n",
       "3                        NaN               NaN                NaN   \n",
       "9                        1.0               1.0                NaN   \n",
       "10                       1.0               NaN                NaN   \n",
       "\n",
       "annotation  Promoter_H3K9a  Promoter_H3K9me3  Promoter_H4K20me1  \n",
       "geneId                                                           \n",
       "1                      1.0               2.0                NaN  \n",
       "2                      NaN               NaN                NaN  \n",
       "3                      NaN               NaN                NaN  \n",
       "9                      NaN               NaN                NaN  \n",
       "10                     NaN               NaN                NaN  \n",
       "\n",
       "[5 rows x 77 columns]"
      ]
     },
     "execution_count": 8,
     "metadata": {},
     "output_type": "execute_result"
    }
   ],
   "source": [
    "feature_matrix.head()"
   ]
  },
  {
   "cell_type": "markdown",
   "metadata": {},
   "source": [
    "### Import RNA-seq data"
   ]
  },
  {
   "cell_type": "code",
   "execution_count": 9,
   "metadata": {},
   "outputs": [],
   "source": [
    "rna_seq = dfs_transcriptomics['Mammary Epithelial Cell']"
   ]
  },
  {
   "cell_type": "code",
   "execution_count": 10,
   "metadata": {},
   "outputs": [
    {
     "data": {
      "text/plain": [
       "(59526, 17)"
      ]
     },
     "execution_count": 10,
     "metadata": {},
     "output_type": "execute_result"
    }
   ],
   "source": [
    "rna_seq.shape"
   ]
  },
  {
   "cell_type": "code",
   "execution_count": 11,
   "metadata": {},
   "outputs": [
    {
     "data": {
      "text/html": [
       "<div>\n",
       "<style scoped>\n",
       "    .dataframe tbody tr th:only-of-type {\n",
       "        vertical-align: middle;\n",
       "    }\n",
       "\n",
       "    .dataframe tbody tr th {\n",
       "        vertical-align: top;\n",
       "    }\n",
       "\n",
       "    .dataframe thead th {\n",
       "        text-align: right;\n",
       "    }\n",
       "</style>\n",
       "<table border=\"1\" class=\"dataframe\">\n",
       "  <thead>\n",
       "    <tr style=\"text-align: right;\">\n",
       "      <th></th>\n",
       "      <th>gene_id</th>\n",
       "      <th>transcript_id(s)</th>\n",
       "      <th>length</th>\n",
       "      <th>effective_length</th>\n",
       "      <th>expected_count</th>\n",
       "      <th>TPM</th>\n",
       "      <th>FPKM</th>\n",
       "      <th>posterior_mean_count</th>\n",
       "      <th>posterior_standard_deviation_of_count</th>\n",
       "      <th>pme_TPM</th>\n",
       "      <th>pme_FPKM</th>\n",
       "      <th>TPM_ci_lower_bound</th>\n",
       "      <th>TPM_ci_upper_bound</th>\n",
       "      <th>TPM_coefficient_of_quartile_variation</th>\n",
       "      <th>FPKM_ci_lower_bound</th>\n",
       "      <th>FPKM_ci_upper_bound</th>\n",
       "      <th>FPKM_coefficient_of_quartile_variation</th>\n",
       "    </tr>\n",
       "  </thead>\n",
       "  <tbody>\n",
       "    <tr>\n",
       "      <th>0</th>\n",
       "      <td>10904</td>\n",
       "      <td>10904</td>\n",
       "      <td>93.0</td>\n",
       "      <td>0.0</td>\n",
       "      <td>0.0</td>\n",
       "      <td>0.0</td>\n",
       "      <td>0.0</td>\n",
       "      <td>0.0</td>\n",
       "      <td>0.0</td>\n",
       "      <td>0.0</td>\n",
       "      <td>0.0</td>\n",
       "      <td>0.0</td>\n",
       "      <td>0.0</td>\n",
       "      <td>0.0</td>\n",
       "      <td>0.0</td>\n",
       "      <td>0.0</td>\n",
       "      <td>0.0</td>\n",
       "    </tr>\n",
       "    <tr>\n",
       "      <th>1</th>\n",
       "      <td>12954</td>\n",
       "      <td>12954</td>\n",
       "      <td>94.0</td>\n",
       "      <td>0.0</td>\n",
       "      <td>0.0</td>\n",
       "      <td>0.0</td>\n",
       "      <td>0.0</td>\n",
       "      <td>0.0</td>\n",
       "      <td>0.0</td>\n",
       "      <td>0.0</td>\n",
       "      <td>0.0</td>\n",
       "      <td>0.0</td>\n",
       "      <td>0.0</td>\n",
       "      <td>0.0</td>\n",
       "      <td>0.0</td>\n",
       "      <td>0.0</td>\n",
       "      <td>0.0</td>\n",
       "    </tr>\n",
       "    <tr>\n",
       "      <th>2</th>\n",
       "      <td>12956</td>\n",
       "      <td>12956</td>\n",
       "      <td>72.0</td>\n",
       "      <td>0.0</td>\n",
       "      <td>0.0</td>\n",
       "      <td>0.0</td>\n",
       "      <td>0.0</td>\n",
       "      <td>0.0</td>\n",
       "      <td>0.0</td>\n",
       "      <td>0.0</td>\n",
       "      <td>0.0</td>\n",
       "      <td>0.0</td>\n",
       "      <td>0.0</td>\n",
       "      <td>0.0</td>\n",
       "      <td>0.0</td>\n",
       "      <td>0.0</td>\n",
       "      <td>0.0</td>\n",
       "    </tr>\n",
       "    <tr>\n",
       "      <th>3</th>\n",
       "      <td>12958</td>\n",
       "      <td>12958</td>\n",
       "      <td>82.0</td>\n",
       "      <td>0.0</td>\n",
       "      <td>0.0</td>\n",
       "      <td>0.0</td>\n",
       "      <td>0.0</td>\n",
       "      <td>0.0</td>\n",
       "      <td>0.0</td>\n",
       "      <td>0.0</td>\n",
       "      <td>0.0</td>\n",
       "      <td>0.0</td>\n",
       "      <td>0.0</td>\n",
       "      <td>0.0</td>\n",
       "      <td>0.0</td>\n",
       "      <td>0.0</td>\n",
       "      <td>0.0</td>\n",
       "    </tr>\n",
       "    <tr>\n",
       "      <th>4</th>\n",
       "      <td>12960</td>\n",
       "      <td>12960</td>\n",
       "      <td>73.0</td>\n",
       "      <td>0.0</td>\n",
       "      <td>0.0</td>\n",
       "      <td>0.0</td>\n",
       "      <td>0.0</td>\n",
       "      <td>0.0</td>\n",
       "      <td>0.0</td>\n",
       "      <td>0.0</td>\n",
       "      <td>0.0</td>\n",
       "      <td>0.0</td>\n",
       "      <td>0.0</td>\n",
       "      <td>0.0</td>\n",
       "      <td>0.0</td>\n",
       "      <td>0.0</td>\n",
       "      <td>0.0</td>\n",
       "    </tr>\n",
       "  </tbody>\n",
       "</table>\n",
       "</div>"
      ],
      "text/plain": [
       "  gene_id transcript_id(s)  length  effective_length  expected_count  TPM  \\\n",
       "0   10904            10904    93.0               0.0             0.0  0.0   \n",
       "1   12954            12954    94.0               0.0             0.0  0.0   \n",
       "2   12956            12956    72.0               0.0             0.0  0.0   \n",
       "3   12958            12958    82.0               0.0             0.0  0.0   \n",
       "4   12960            12960    73.0               0.0             0.0  0.0   \n",
       "\n",
       "   FPKM  posterior_mean_count  posterior_standard_deviation_of_count  pme_TPM  \\\n",
       "0   0.0                   0.0                                    0.0      0.0   \n",
       "1   0.0                   0.0                                    0.0      0.0   \n",
       "2   0.0                   0.0                                    0.0      0.0   \n",
       "3   0.0                   0.0                                    0.0      0.0   \n",
       "4   0.0                   0.0                                    0.0      0.0   \n",
       "\n",
       "   pme_FPKM  TPM_ci_lower_bound  TPM_ci_upper_bound  \\\n",
       "0       0.0                 0.0                 0.0   \n",
       "1       0.0                 0.0                 0.0   \n",
       "2       0.0                 0.0                 0.0   \n",
       "3       0.0                 0.0                 0.0   \n",
       "4       0.0                 0.0                 0.0   \n",
       "\n",
       "   TPM_coefficient_of_quartile_variation  FPKM_ci_lower_bound  \\\n",
       "0                                    0.0                  0.0   \n",
       "1                                    0.0                  0.0   \n",
       "2                                    0.0                  0.0   \n",
       "3                                    0.0                  0.0   \n",
       "4                                    0.0                  0.0   \n",
       "\n",
       "   FPKM_ci_upper_bound  FPKM_coefficient_of_quartile_variation  \n",
       "0                  0.0                                     0.0  \n",
       "1                  0.0                                     0.0  \n",
       "2                  0.0                                     0.0  \n",
       "3                  0.0                                     0.0  \n",
       "4                  0.0                                     0.0  "
      ]
     },
     "execution_count": 11,
     "metadata": {},
     "output_type": "execute_result"
    }
   ],
   "source": [
    "rna_seq.head()"
   ]
  },
  {
   "cell_type": "code",
   "execution_count": 12,
   "metadata": {},
   "outputs": [],
   "source": [
    "rna_seq['gene_id_clean'] = rna_seq['gene_id'].apply(lambda x: x.split(\".\")[0])"
   ]
  },
  {
   "cell_type": "markdown",
   "metadata": {},
   "source": [
    "### Lets harmonizome the gene identifiers in the epigenetics data and RNA-seq data to gene names "
   ]
  },
  {
   "cell_type": "code",
   "execution_count": 13,
   "metadata": {},
   "outputs": [],
   "source": [
    "mapping = pd.read_table('mart_export_grch38.txt')"
   ]
  },
  {
   "cell_type": "code",
   "execution_count": 14,
   "metadata": {},
   "outputs": [
    {
     "data": {
      "text/html": [
       "<div>\n",
       "<style scoped>\n",
       "    .dataframe tbody tr th:only-of-type {\n",
       "        vertical-align: middle;\n",
       "    }\n",
       "\n",
       "    .dataframe tbody tr th {\n",
       "        vertical-align: top;\n",
       "    }\n",
       "\n",
       "    .dataframe thead th {\n",
       "        text-align: right;\n",
       "    }\n",
       "</style>\n",
       "<table border=\"1\" class=\"dataframe\">\n",
       "  <thead>\n",
       "    <tr style=\"text-align: right;\">\n",
       "      <th></th>\n",
       "      <th>Gene stable ID</th>\n",
       "      <th>Gene stable ID version</th>\n",
       "      <th>Transcript stable ID</th>\n",
       "      <th>Transcript stable ID version</th>\n",
       "      <th>Gene name</th>\n",
       "      <th>NCBI gene (formerly Entrezgene) ID</th>\n",
       "    </tr>\n",
       "  </thead>\n",
       "  <tbody>\n",
       "    <tr>\n",
       "      <th>0</th>\n",
       "      <td>ENSG00000210049</td>\n",
       "      <td>ENSG00000210049.1</td>\n",
       "      <td>ENST00000387314</td>\n",
       "      <td>ENST00000387314.1</td>\n",
       "      <td>MT-TF</td>\n",
       "      <td>NaN</td>\n",
       "    </tr>\n",
       "    <tr>\n",
       "      <th>1</th>\n",
       "      <td>ENSG00000211459</td>\n",
       "      <td>ENSG00000211459.2</td>\n",
       "      <td>ENST00000389680</td>\n",
       "      <td>ENST00000389680.2</td>\n",
       "      <td>MT-RNR1</td>\n",
       "      <td>NaN</td>\n",
       "    </tr>\n",
       "    <tr>\n",
       "      <th>2</th>\n",
       "      <td>ENSG00000210077</td>\n",
       "      <td>ENSG00000210077.1</td>\n",
       "      <td>ENST00000387342</td>\n",
       "      <td>ENST00000387342.1</td>\n",
       "      <td>MT-TV</td>\n",
       "      <td>NaN</td>\n",
       "    </tr>\n",
       "    <tr>\n",
       "      <th>3</th>\n",
       "      <td>ENSG00000210082</td>\n",
       "      <td>ENSG00000210082.2</td>\n",
       "      <td>ENST00000387347</td>\n",
       "      <td>ENST00000387347.2</td>\n",
       "      <td>MT-RNR2</td>\n",
       "      <td>NaN</td>\n",
       "    </tr>\n",
       "    <tr>\n",
       "      <th>4</th>\n",
       "      <td>ENSG00000209082</td>\n",
       "      <td>ENSG00000209082.1</td>\n",
       "      <td>ENST00000386347</td>\n",
       "      <td>ENST00000386347.1</td>\n",
       "      <td>MT-TL1</td>\n",
       "      <td>NaN</td>\n",
       "    </tr>\n",
       "  </tbody>\n",
       "</table>\n",
       "</div>"
      ],
      "text/plain": [
       "    Gene stable ID Gene stable ID version Transcript stable ID  \\\n",
       "0  ENSG00000210049      ENSG00000210049.1      ENST00000387314   \n",
       "1  ENSG00000211459      ENSG00000211459.2      ENST00000389680   \n",
       "2  ENSG00000210077      ENSG00000210077.1      ENST00000387342   \n",
       "3  ENSG00000210082      ENSG00000210082.2      ENST00000387347   \n",
       "4  ENSG00000209082      ENSG00000209082.1      ENST00000386347   \n",
       "\n",
       "  Transcript stable ID version Gene name  NCBI gene (formerly Entrezgene) ID  \n",
       "0            ENST00000387314.1     MT-TF                                 NaN  \n",
       "1            ENST00000389680.2   MT-RNR1                                 NaN  \n",
       "2            ENST00000387342.1     MT-TV                                 NaN  \n",
       "3            ENST00000387347.2   MT-RNR2                                 NaN  \n",
       "4            ENST00000386347.1    MT-TL1                                 NaN  "
      ]
     },
     "execution_count": 14,
     "metadata": {},
     "output_type": "execute_result"
    }
   ],
   "source": [
    "mapping.head()"
   ]
  },
  {
   "cell_type": "code",
   "execution_count": 15,
   "metadata": {},
   "outputs": [
    {
     "name": "stderr",
     "output_type": "stream",
     "text": [
      "/var/folders/p4/gdh28gk568sbf143d4p59vdw0000gq/T/ipykernel_37169/4270631737.py:6: SettingWithCopyWarning: \n",
      "A value is trying to be set on a copy of a slice from a DataFrame.\n",
      "Try using .loc[row_indexer,col_indexer] = value instead\n",
      "\n",
      "See the caveats in the documentation: https://pandas.pydata.org/pandas-docs/stable/user_guide/indexing.html#returning-a-view-versus-a-copy\n",
      "  ncbi_gene_id_map['NCBI gene (formerly Entrezgene) ID'] = ncbi_gene_id_map['NCBI gene (formerly Entrezgene) ID'].astype(int).astype(str)\n"
     ]
    }
   ],
   "source": [
    "ensembl_gene_id_map = mapping.set_index('Gene stable ID').to_dict()['Gene name']\n",
    "ensembl_transcript_id_map = mapping.set_index('Transcript stable ID version').to_dict()['Gene name']\n",
    "\n",
    "# NCBI column has NaNs which turns the integers into floats, so drop NaNs, change floats --> int --> str, and create dict\n",
    "ncbi_gene_id_map = mapping.dropna(subset='NCBI gene (formerly Entrezgene) ID')\n",
    "ncbi_gene_id_map['NCBI gene (formerly Entrezgene) ID'] = ncbi_gene_id_map['NCBI gene (formerly Entrezgene) ID'].astype(int).astype(str)\n",
    "ncbi_gene_id_map = ncbi_gene_id_map.set_index('NCBI gene (formerly Entrezgene) ID').to_dict()['Gene name']\n",
    "\n",
    "# Combine the transcript IDs, gene IDs, and NCBI IDs dictionaries for all possible mappings\n",
    "mapping_dict = ensembl_transcript_id_map | ensembl_gene_id_map | ncbi_gene_id_map "
   ]
  },
  {
   "cell_type": "code",
   "execution_count": 16,
   "metadata": {},
   "outputs": [],
   "source": [
    "rna_seq['gene_name'] = rna_seq['gene_id_clean'].map(mapping_dict)\n",
    "feature_matrix['gene_name'] = feature_matrix.index.astype(str).map(mapping_dict)\n"
   ]
  },
  {
   "cell_type": "code",
   "execution_count": 17,
   "metadata": {},
   "outputs": [],
   "source": [
    "rna_seq.dropna(subset='gene_name', inplace = True)"
   ]
  },
  {
   "cell_type": "markdown",
   "metadata": {},
   "source": [
    "### Create training matrix and target vector"
   ]
  },
  {
   "cell_type": "code",
   "execution_count": 18,
   "metadata": {},
   "outputs": [],
   "source": [
    "data = pd.merge(feature_matrix,rna_seq[['gene_name','TPM']],on='gene_name').set_index('gene_name')"
   ]
  },
  {
   "cell_type": "code",
   "execution_count": 75,
   "metadata": {},
   "outputs": [
    {
     "name": "stderr",
     "output_type": "stream",
     "text": [
      "/var/folders/p4/gdh28gk568sbf143d4p59vdw0000gq/T/ipykernel_37169/225978411.py:2: SettingWithCopyWarning: \n",
      "A value is trying to be set on a copy of a slice from a DataFrame\n",
      "\n",
      "See the caveats in the documentation: https://pandas.pydata.org/pandas-docs/stable/user_guide/indexing.html#returning-a-view-versus-a-copy\n",
      "  X.fillna(0, inplace = True)\n"
     ]
    }
   ],
   "source": [
    "X, y = data.iloc[:, :-1], data.iloc[:, -1]\n",
    "X.fillna(0, inplace = True)"
   ]
  },
  {
   "cell_type": "code",
   "execution_count": 76,
   "metadata": {},
   "outputs": [],
   "source": [
    "y = np.log10(y+0.001)"
   ]
  },
  {
   "cell_type": "code",
   "execution_count": 77,
   "metadata": {},
   "outputs": [
    {
     "data": {
      "text/plain": [
       "count    23306.000000\n",
       "mean        -0.510815\n",
       "std          1.875875\n",
       "min         -3.000000\n",
       "25%         -3.000000\n",
       "50%          0.117603\n",
       "75%          1.134448\n",
       "max          5.390117\n",
       "Name: TPM, dtype: float64"
      ]
     },
     "execution_count": 77,
     "metadata": {},
     "output_type": "execute_result"
    }
   ],
   "source": [
    "y.describe()"
   ]
  },
  {
   "cell_type": "code",
   "execution_count": 78,
   "metadata": {},
   "outputs": [
    {
     "name": "stdout",
     "output_type": "stream",
     "text": [
      "Mean MAE: 0.732 (0.017)\n"
     ]
    }
   ],
   "source": [
    "import xgboost as xgb\n",
    "from sklearn.model_selection import RepeatedKFold, cross_val_score\n",
    "model = xgb.XGBRegressor()\n",
    "# define model evaluation method\n",
    "cv = RepeatedKFold(n_splits=10, n_repeats=3, random_state=1)\n",
    "# evaluate model\n",
    "scores = cross_val_score(model, X, y, scoring='neg_mean_absolute_error', cv=cv, n_jobs=-1)\n",
    "# force scores to be positive\n",
    "scores = abs(scores)\n",
    "print('Mean MAE: %.3f (%.3f)' % (scores.mean(), scores.std()))"
   ]
  },
  {
   "cell_type": "code",
   "execution_count": 79,
   "metadata": {},
   "outputs": [],
   "source": [
    "X_train, X_test, y_train, y_test = train_test_split(X, y, test_size=0.20, random_state=42)"
   ]
  },
  {
   "cell_type": "code",
   "execution_count": 80,
   "metadata": {},
   "outputs": [
    {
     "data": {
      "text/html": [
       "<style>#sk-container-id-3 {color: black;}#sk-container-id-3 pre{padding: 0;}#sk-container-id-3 div.sk-toggleable {background-color: white;}#sk-container-id-3 label.sk-toggleable__label {cursor: pointer;display: block;width: 100%;margin-bottom: 0;padding: 0.3em;box-sizing: border-box;text-align: center;}#sk-container-id-3 label.sk-toggleable__label-arrow:before {content: \"▸\";float: left;margin-right: 0.25em;color: #696969;}#sk-container-id-3 label.sk-toggleable__label-arrow:hover:before {color: black;}#sk-container-id-3 div.sk-estimator:hover label.sk-toggleable__label-arrow:before {color: black;}#sk-container-id-3 div.sk-toggleable__content {max-height: 0;max-width: 0;overflow: hidden;text-align: left;background-color: #f0f8ff;}#sk-container-id-3 div.sk-toggleable__content pre {margin: 0.2em;color: black;border-radius: 0.25em;background-color: #f0f8ff;}#sk-container-id-3 input.sk-toggleable__control:checked~div.sk-toggleable__content {max-height: 200px;max-width: 100%;overflow: auto;}#sk-container-id-3 input.sk-toggleable__control:checked~label.sk-toggleable__label-arrow:before {content: \"▾\";}#sk-container-id-3 div.sk-estimator input.sk-toggleable__control:checked~label.sk-toggleable__label {background-color: #d4ebff;}#sk-container-id-3 div.sk-label input.sk-toggleable__control:checked~label.sk-toggleable__label {background-color: #d4ebff;}#sk-container-id-3 input.sk-hidden--visually {border: 0;clip: rect(1px 1px 1px 1px);clip: rect(1px, 1px, 1px, 1px);height: 1px;margin: -1px;overflow: hidden;padding: 0;position: absolute;width: 1px;}#sk-container-id-3 div.sk-estimator {font-family: monospace;background-color: #f0f8ff;border: 1px dotted black;border-radius: 0.25em;box-sizing: border-box;margin-bottom: 0.5em;}#sk-container-id-3 div.sk-estimator:hover {background-color: #d4ebff;}#sk-container-id-3 div.sk-parallel-item::after {content: \"\";width: 100%;border-bottom: 1px solid gray;flex-grow: 1;}#sk-container-id-3 div.sk-label:hover label.sk-toggleable__label {background-color: #d4ebff;}#sk-container-id-3 div.sk-serial::before {content: \"\";position: absolute;border-left: 1px solid gray;box-sizing: border-box;top: 0;bottom: 0;left: 50%;z-index: 0;}#sk-container-id-3 div.sk-serial {display: flex;flex-direction: column;align-items: center;background-color: white;padding-right: 0.2em;padding-left: 0.2em;position: relative;}#sk-container-id-3 div.sk-item {position: relative;z-index: 1;}#sk-container-id-3 div.sk-parallel {display: flex;align-items: stretch;justify-content: center;background-color: white;position: relative;}#sk-container-id-3 div.sk-item::before, #sk-container-id-3 div.sk-parallel-item::before {content: \"\";position: absolute;border-left: 1px solid gray;box-sizing: border-box;top: 0;bottom: 0;left: 50%;z-index: -1;}#sk-container-id-3 div.sk-parallel-item {display: flex;flex-direction: column;z-index: 1;position: relative;background-color: white;}#sk-container-id-3 div.sk-parallel-item:first-child::after {align-self: flex-end;width: 50%;}#sk-container-id-3 div.sk-parallel-item:last-child::after {align-self: flex-start;width: 50%;}#sk-container-id-3 div.sk-parallel-item:only-child::after {width: 0;}#sk-container-id-3 div.sk-dashed-wrapped {border: 1px dashed gray;margin: 0 0.4em 0.5em 0.4em;box-sizing: border-box;padding-bottom: 0.4em;background-color: white;}#sk-container-id-3 div.sk-label label {font-family: monospace;font-weight: bold;display: inline-block;line-height: 1.2em;}#sk-container-id-3 div.sk-label-container {text-align: center;}#sk-container-id-3 div.sk-container {/* jupyter's `normalize.less` sets `[hidden] { display: none; }` but bootstrap.min.css set `[hidden] { display: none !important; }` so we also need the `!important` here to be able to override the default hidden behavior on the sphinx rendered scikit-learn.org. See: https://github.com/scikit-learn/scikit-learn/issues/21755 */display: inline-block !important;position: relative;}#sk-container-id-3 div.sk-text-repr-fallback {display: none;}</style><div id=\"sk-container-id-3\" class=\"sk-top-container\"><div class=\"sk-text-repr-fallback\"><pre>XGBRegressor(base_score=None, booster=None, callbacks=None,\n",
       "             colsample_bylevel=None, colsample_bynode=None,\n",
       "             colsample_bytree=None, device=None, early_stopping_rounds=None,\n",
       "             enable_categorical=False, eval_metric=None, feature_types=None,\n",
       "             gamma=None, grow_policy=None, importance_type=None,\n",
       "             interaction_constraints=None, learning_rate=None, max_bin=None,\n",
       "             max_cat_threshold=None, max_cat_to_onehot=None,\n",
       "             max_delta_step=None, max_depth=None, max_leaves=None,\n",
       "             min_child_weight=None, missing=nan, monotone_constraints=None,\n",
       "             multi_strategy=None, n_estimators=None, n_jobs=None,\n",
       "             num_parallel_tree=None, random_state=None, ...)</pre><b>In a Jupyter environment, please rerun this cell to show the HTML representation or trust the notebook. <br />On GitHub, the HTML representation is unable to render, please try loading this page with nbviewer.org.</b></div><div class=\"sk-container\" hidden><div class=\"sk-item\"><div class=\"sk-estimator sk-toggleable\"><input class=\"sk-toggleable__control sk-hidden--visually\" id=\"sk-estimator-id-3\" type=\"checkbox\" checked><label for=\"sk-estimator-id-3\" class=\"sk-toggleable__label sk-toggleable__label-arrow\">XGBRegressor</label><div class=\"sk-toggleable__content\"><pre>XGBRegressor(base_score=None, booster=None, callbacks=None,\n",
       "             colsample_bylevel=None, colsample_bynode=None,\n",
       "             colsample_bytree=None, device=None, early_stopping_rounds=None,\n",
       "             enable_categorical=False, eval_metric=None, feature_types=None,\n",
       "             gamma=None, grow_policy=None, importance_type=None,\n",
       "             interaction_constraints=None, learning_rate=None, max_bin=None,\n",
       "             max_cat_threshold=None, max_cat_to_onehot=None,\n",
       "             max_delta_step=None, max_depth=None, max_leaves=None,\n",
       "             min_child_weight=None, missing=nan, monotone_constraints=None,\n",
       "             multi_strategy=None, n_estimators=None, n_jobs=None,\n",
       "             num_parallel_tree=None, random_state=None, ...)</pre></div></div></div></div></div>"
      ],
      "text/plain": [
       "XGBRegressor(base_score=None, booster=None, callbacks=None,\n",
       "             colsample_bylevel=None, colsample_bynode=None,\n",
       "             colsample_bytree=None, device=None, early_stopping_rounds=None,\n",
       "             enable_categorical=False, eval_metric=None, feature_types=None,\n",
       "             gamma=None, grow_policy=None, importance_type=None,\n",
       "             interaction_constraints=None, learning_rate=None, max_bin=None,\n",
       "             max_cat_threshold=None, max_cat_to_onehot=None,\n",
       "             max_delta_step=None, max_depth=None, max_leaves=None,\n",
       "             min_child_weight=None, missing=nan, monotone_constraints=None,\n",
       "             multi_strategy=None, n_estimators=None, n_jobs=None,\n",
       "             num_parallel_tree=None, random_state=None, ...)"
      ]
     },
     "execution_count": 80,
     "metadata": {},
     "output_type": "execute_result"
    }
   ],
   "source": [
    "# define model\n",
    "model = xgb.XGBRegressor()\n",
    "# fit model\n",
    "model.fit(X_train, y_train)"
   ]
  },
  {
   "cell_type": "code",
   "execution_count": 81,
   "metadata": {},
   "outputs": [],
   "source": [
    "yhat = model.predict(X_test)"
   ]
  },
  {
   "cell_type": "code",
   "execution_count": 82,
   "metadata": {},
   "outputs": [
    {
     "data": {
      "text/plain": [
       "0.7356855619102489"
      ]
     },
     "execution_count": 82,
     "metadata": {},
     "output_type": "execute_result"
    }
   ],
   "source": [
    "mean_absolute_error(y_test,yhat)"
   ]
  },
  {
   "cell_type": "code",
   "execution_count": 83,
   "metadata": {},
   "outputs": [],
   "source": [
    "y_preds = pd.Series(yhat)\n",
    "y_preds.index = y_test.index"
   ]
  },
  {
   "cell_type": "code",
   "execution_count": 84,
   "metadata": {},
   "outputs": [],
   "source": [
    "scatter_data = pd.concat([y_test,y_preds], axis = 1).rename({'TPM':'y_true',0:'y_pred'},axis=1)"
   ]
  },
  {
   "cell_type": "code",
   "execution_count": 85,
   "metadata": {},
   "outputs": [
    {
     "data": {
      "text/plain": [
       "<Axes: xlabel='y_true', ylabel='y_pred'>"
      ]
     },
     "execution_count": 85,
     "metadata": {},
     "output_type": "execute_result"
    },
    {
     "data": {
      "image/png": "[encoded data removed]",
      "text/plain": [
       "<Figure size 640x480 with 1 Axes>"
      ]
     },
     "metadata": {},
     "output_type": "display_data"
    }
   ],
   "source": [
    "scatter_data.plot(kind='scatter', x = 'y_true', y= 'y_pred')"
   ]
  }
 ],
 "metadata": {
  "kernelspec": {
   "display_name": "biohack",
   "language": "python",
   "name": "python3"
  },
  "language_info": {
   "codemirror_mode": {
    "name": "ipython",
    "version": 3
   },
   "file_extension": ".py",
   "mimetype": "text/x-python",
   "name": "python",
   "nbconvert_exporter": "python",
   "pygments_lexer": "ipython3",
   "version": "3.9.9"
  }
 },
 "nbformat": 4,
 "nbformat_minor": 2
}
